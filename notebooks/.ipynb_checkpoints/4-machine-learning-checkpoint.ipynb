{
 "cells": [
  {
   "cell_type": "code",
   "execution_count": 1,
   "metadata": {},
   "outputs": [
    {
     "name": "stdout",
     "output_type": "stream",
     "text": [
      "91.64\n"
     ]
    }
   ],
   "source": [
    "# MNIST\n",
    "\n",
    "import cv2\n",
    "import numpy as np\n",
    "\n",
    "def show_image(image):\n",
    "    cv2.namedWindow('image', cv2.WINDOW_NORMAL)\n",
    "    cv2.imshow('image', image)\n",
    "    cv2.waitKey(0)\n",
    "    cv2.destroyAllWindows()\n",
    "\n",
    "digits = cv2.imread('../datasets/digits.png', 0)\n",
    "\n",
    "# show_image(digits)\n",
    "# print(digits.shape)\n",
    "\n",
    "images = [np.hsplit(row, 100)\n",
    "          for row in\n",
    "          np.vsplit(digits, 50)]\n",
    "\n",
    "images = np.array(images, dtype=np.float32)\n",
    "\n",
    "# print(images.shape)\n",
    "\n",
    "train_features = images[:, :50].reshape(-1, (20 * 20))\n",
    "test_features = images[:, 50:100].reshape(-1, (20 * 20))\n",
    "\n",
    "# create labels\n",
    "k = np.arange(10)\n",
    "train_labels = np.repeat(k, 250).reshape(-1, 1)\n",
    "test_labels = train_labels.copy()\n",
    "\n",
    "knn = cv2.ml.KNearest_create()\n",
    "knn.train(train_features, cv2.ml.ROW_SAMPLE, train_labels)\n",
    "\n",
    "ret, result, neighbor, dist = knn.findNearest(test_features, 3)\n",
    "\n",
    "matches = np.equal(result, test_labels)\n",
    "matches = matches.astype(np.int)\n",
    "\n",
    "correct = np.count_nonzero(matches)\n",
    "\n",
    "accuracy = correct * 100.0 / result.size\n",
    "\n",
    "print(accuracy)\n"
   ]
  },
  {
   "cell_type": "code",
   "execution_count": 2,
   "metadata": {},
   "outputs": [
    {
     "name": "stdout",
     "output_type": "stream",
     "text": [
      "70.88888888888889\n"
     ]
    }
   ],
   "source": [
    "# MNIST\n",
    "\n",
    "import cv2\n",
    "import numpy as np\n",
    "\n",
    "def show_image(image):\n",
    "    cv2.namedWindow('image', cv2.WINDOW_NORMAL)\n",
    "    cv2.imshow('image', image)\n",
    "    cv2.waitKey(0)\n",
    "    cv2.destroyAllWindows()\n",
    "\n",
    "fashion = cv2.imread('../datasets/fashion.png', 0)\n",
    "# 840 x 840\n",
    "\n",
    "images = [np.hsplit(row, 30)\n",
    "          for row in\n",
    "          np.vsplit(fashion, 30)]\n",
    "\n",
    "images = np.array(images, dtype=np.float32)\n",
    "\n",
    "# print(images.shape)\n",
    "\n",
    "train_features = images[:, :15].reshape(-1, (28 * 28))\n",
    "test_features = images[:, 15:30].reshape(-1, (28 * 28))\n",
    "\n",
    "\n",
    "# create labels\n",
    "k = np.arange(10)\n",
    "train_labels = np.repeat(k, 45).reshape(-1, 1)\n",
    "test_labels = train_labels.copy()\n",
    "\n",
    "knn = cv2.ml.KNearest_create()\n",
    "knn.train(train_features, cv2.ml.ROW_SAMPLE, train_labels)\n",
    "\n",
    "ret, result, neighbor, dist = knn.findNearest(test_features, 3)\n",
    "\n",
    "matches = np.equal(result, test_labels)\n",
    "matches = matches.astype(np.int)\n",
    "\n",
    "correct = np.count_nonzero(matches)\n",
    "\n",
    "accuracy = correct * 100.0 / result.size\n",
    "\n",
    "print(accuracy)\n"
   ]
  },
  {
   "cell_type": "code",
   "execution_count": 3,
   "metadata": {},
   "outputs": [
    {
     "name": "stdout",
     "output_type": "stream",
     "text": [
      "74.66666666666667\n"
     ]
    }
   ],
   "source": [
    "import cv2\n",
    "import numpy as np\n",
    "\n",
    "def show_image(image):\n",
    "    cv2.namedWindow('image', cv2.WINDOW_NORMAL)\n",
    "    cv2.imshow('image', image)\n",
    "    cv2.waitKey(0)\n",
    "    cv2.destroyAllWindows()\n",
    "\n",
    "fashion = cv2.imread('../datasets/fashion.png', 0)\n",
    "# 840 x 840\n",
    "\n",
    "images = [np.hsplit(row, 30)\n",
    "          for row in\n",
    "          np.vsplit(fashion, 30)]\n",
    "\n",
    "images = np.array(images, dtype=np.float32)\n",
    "\n",
    "# print(images.shape)\n",
    "\n",
    "train_features = images[:, :15].reshape(-1, (28 * 28))\n",
    "test_features = images[:, 15:30].reshape(-1, (28 * 28))\n",
    "\n",
    "\n",
    "# create labels\n",
    "k = np.arange(10)\n",
    "train_labels = np.repeat(k, 45).reshape(-1, 1)\n",
    "test_labels = train_labels.copy()\n",
    "\n",
    "knn = cv2.ml.SVM_create()\n",
    "knn.setKernel(cv2.ml.SVM_LINEAR)\n",
    "knn.setC(2.67)\n",
    "knn.setGamma(5.383)\n",
    "knn.setType(cv2.ml.SVM_C_SVC)\n",
    "\n",
    "knn.train(train_features, cv2.ml.ROW_SAMPLE, train_labels)\n",
    "\n",
    "result = knn.predict(test_features)\n",
    "\n",
    "matches = np.equal(result[1], test_labels)\n",
    "matches = matches.astype(np.int)\n",
    "\n",
    "correct = np.count_nonzero(matches)\n",
    "\n",
    "accuracy = correct * 100.0 / result[1].size\n",
    "\n",
    "print(accuracy)\n"
   ]
  },
  {
   "cell_type": "code",
   "execution_count": 4,
   "metadata": {},
   "outputs": [
    {
     "name": "stdout",
     "output_type": "stream",
     "text": [
      "90.44\n"
     ]
    }
   ],
   "source": [
    "import cv2\n",
    "import numpy as np\n",
    "\n",
    "def show_image(image):\n",
    "    cv2.namedWindow('image', cv2.WINDOW_NORMAL)\n",
    "    cv2.imshow('image', image)\n",
    "    cv2.waitKey(0)\n",
    "    cv2.destroyAllWindows()\n",
    "\n",
    "fashion = cv2.imread('../datasets/digits.png', 0)\n",
    "# 840 x 840\n",
    "\n",
    "images = [np.hsplit(row, 100)\n",
    "          for row in\n",
    "          np.vsplit(fashion, 50)]\n",
    "\n",
    "images = np.array(images, dtype=np.float32)\n",
    "\n",
    "# print(images.shape)\n",
    "\n",
    "train_features = images[:, :50].reshape(-1, (20 * 20))\n",
    "test_features = images[:, 50:100].reshape(-1, (20 * 20))\n",
    "\n",
    "\n",
    "# create labels\n",
    "k = np.arange(10)\n",
    "train_labels = np.repeat(k, 250).reshape(-1, 1)\n",
    "test_labels = train_labels.copy()\n",
    "\n",
    "knn = cv2.ml.SVM_create()\n",
    "knn.setKernel(cv2.ml.SVM_LINEAR)\n",
    "knn.setC(2.67)\n",
    "knn.setGamma(5.383)\n",
    "knn.setType(cv2.ml.SVM_C_SVC)\n",
    "\n",
    "knn.train(train_features, cv2.ml.ROW_SAMPLE, train_labels)\n",
    "\n",
    "result = knn.predict(test_features)\n",
    "\n",
    "matches = np.equal(result[1], test_labels)\n",
    "matches = matches.astype(np.int)\n",
    "\n",
    "correct = np.count_nonzero(matches)\n",
    "\n",
    "accuracy = correct * 100.0 / result[1].size\n",
    "\n",
    "print(accuracy)\n"
   ]
  },
  {
   "cell_type": "code",
   "execution_count": 5,
   "metadata": {},
   "outputs": [],
   "source": [
    "# Mean Normalization"
   ]
  },
  {
   "cell_type": "code",
   "execution_count": 6,
   "metadata": {},
   "outputs": [],
   "source": [
    "import cv2\n",
    "import numpy as np\n",
    "\n",
    "def show_image(image):\n",
    "    cv2.namedWindow('image', cv2.WINDOW_NORMAL)\n",
    "    cv2.imshow('image', image)\n",
    "    cv2.waitKey(0)\n",
    "    cv2.destroyAllWindows()\n",
    "\n",
    "digits = cv2.imread('../datasets/digits.png', 0)\n",
    "\n",
    "# show_image(digits)\n",
    "# print(digits.shape)\n",
    "\n",
    "images = [np.hsplit(row, 100)\n",
    "          for row in\n",
    "          np.vsplit(digits, 50)]\n",
    "\n",
    "images = np.array(images, dtype=np.float32)\n",
    "\n",
    "# print(images.shape)\n",
    "\n",
    "train_features = images[:, :50].reshape(-1, (20 * 20))\n",
    "test_features = images[:, 50:100].reshape(-1, (20 * 20))\n",
    "\n",
    "train_features -= np.mean(train_features, axis=0)\n",
    "test_features -= np.mean(train_features, axis=0)\n",
    "\n",
    "# create labels\n",
    "k = np.arange(10)\n",
    "train_labels = np.repeat(k, 250).reshape(-1, 1)\n",
    "test_labels = train_labels.copy()\n",
    "\n",
    "knn = cv2.ml.KNearest_create()\n",
    "knn.train(train_features, cv2.ml.ROW_SAMPLE, train_labels)\n",
    "\n",
    "ret, result, neighbor, dist = knn.findNearest(test_features, 3)\n",
    "\n",
    "matches = np.equal(result, test_labels)\n",
    "matches = matches.astype(np.int)\n",
    "\n",
    "correct = np.count_nonzero(matches)\n",
    "\n",
    "accuracy = correct * 100.0 / result.size\n",
    "\n"
   ]
  },
  {
   "cell_type": "code",
   "execution_count": 7,
   "metadata": {},
   "outputs": [
    {
     "name": "stdout",
     "output_type": "stream",
     "text": [
      "52.0\n"
     ]
    }
   ],
   "source": [
    "import cv2\n",
    "import numpy as np\n",
    "\n",
    "def show_image(image):\n",
    "    cv2.namedWindow('image', cv2.WINDOW_NORMAL)\n",
    "    cv2.imshow('image', image)\n",
    "    cv2.waitKey(0)\n",
    "    cv2.destroyAllWindows()\n",
    "\n",
    "fashion = cv2.imread('../datasets/fashion.png', 0)\n",
    "# 840 x 840\n",
    "\n",
    "images = [np.hsplit(row, 30)\n",
    "          for row in\n",
    "          np.vsplit(fashion, 30)]\n",
    "\n",
    "images = np.array(images, dtype=np.float32)\n",
    "\n",
    "# print(images.shape)\n",
    "\n",
    "train_features = images[:, :15].reshape(-1, (28 * 28))\n",
    "test_features = images[:, 15:30].reshape(-1, (28 * 28))\n",
    "\n",
    "train_features -= np.mean(train_features, axis=0)\n",
    "test_features -= np.mean(train_features, axis=0)\n",
    "\n",
    "# create labels\n",
    "k = np.arange(10)\n",
    "train_labels = np.repeat(k, 45).reshape(-1, 1)\n",
    "test_labels = train_labels.copy()\n",
    "\n",
    "knn = cv2.ml.KNearest_create()\n",
    "knn.train(train_features, cv2.ml.ROW_SAMPLE, train_labels)\n",
    "\n",
    "ret, result, neighbor, dist = knn.findNearest(test_features, 3)\n",
    "\n",
    "matches = np.equal(result, test_labels)\n",
    "matches = matches.astype(np.int)\n",
    "\n",
    "correct = np.count_nonzero(matches)\n",
    "\n",
    "accuracy = correct * 100.0 / result.size\n",
    "\n",
    "print(accuracy)\n"
   ]
  },
  {
   "cell_type": "code",
   "execution_count": 8,
   "metadata": {},
   "outputs": [
    {
     "name": "stdout",
     "output_type": "stream",
     "text": [
      "56.44444444444444\n"
     ]
    }
   ],
   "source": [
    "import cv2\n",
    "import numpy as np\n",
    "\n",
    "def show_image(image):\n",
    "    cv2.namedWindow('image', cv2.WINDOW_NORMAL)\n",
    "    cv2.imshow('image', image)\n",
    "    cv2.waitKey(0)\n",
    "    cv2.destroyAllWindows()\n",
    "\n",
    "fashion = cv2.imread('../datasets/fashion.png', 0)\n",
    "# 840 x 840\n",
    "\n",
    "images = [np.hsplit(row, 30)\n",
    "          for row in\n",
    "          np.vsplit(fashion, 30)]\n",
    "\n",
    "images = np.array(images, dtype=np.float32)\n",
    "\n",
    "# print(images.shape)\n",
    "\n",
    "train_features = images[:, :15].reshape(-1, (28 * 28))\n",
    "test_features = images[:, 15:30].reshape(-1, (28 * 28))\n",
    "\n",
    "train_features -= np.mean(train_features, axis=0)\n",
    "test_features -= np.mean(train_features, axis=0)\n",
    "\n",
    "# create labels\n",
    "k = np.arange(10)\n",
    "train_labels = np.repeat(k, 45).reshape(-1, 1)\n",
    "test_labels = train_labels.copy()\n",
    "\n",
    "knn = cv2.ml.SVM_create()\n",
    "knn.setKernel(cv2.ml.SVM_LINEAR)\n",
    "knn.setC(2.67)\n",
    "knn.setGamma(5.383)\n",
    "knn.setType(cv2.ml.SVM_C_SVC)\n",
    "\n",
    "knn.train(train_features, cv2.ml.ROW_SAMPLE, train_labels)\n",
    "\n",
    "result = knn.predict(test_features)\n",
    "\n",
    "matches = np.equal(result[1], test_labels)\n",
    "matches = matches.astype(np.int)\n",
    "\n",
    "correct = np.count_nonzero(matches)\n",
    "\n",
    "accuracy = correct * 100.0 / result[1].size\n",
    "\n",
    "print(accuracy)\n"
   ]
  },
  {
   "cell_type": "code",
   "execution_count": 9,
   "metadata": {},
   "outputs": [
    {
     "name": "stdout",
     "output_type": "stream",
     "text": [
      "66.8\n"
     ]
    }
   ],
   "source": [
    "import cv2\n",
    "import numpy as np\n",
    "\n",
    "def show_image(image):\n",
    "    cv2.namedWindow('image', cv2.WINDOW_NORMAL)\n",
    "    cv2.imshow('image', image)\n",
    "    cv2.waitKey(0)\n",
    "    cv2.destroyAllWindows()\n",
    "\n",
    "fashion = cv2.imread('../datasets/digits.png', 0)\n",
    "# 840 x 840\n",
    "\n",
    "images = [np.hsplit(row, 100)\n",
    "          for row in\n",
    "          np.vsplit(fashion, 50)]\n",
    "\n",
    "images = np.array(images, dtype=np.float32)\n",
    "\n",
    "# print(images.shape)\n",
    "\n",
    "train_features = images[:, :50].reshape(-1, (20 * 20))\n",
    "test_features = images[:, 50:100].reshape(-1, (20 * 20))\n",
    "\n",
    "train_features -= np.mean(train_features, axis=0)\n",
    "test_features -= np.mean(train_features, axis=0)\n",
    "\n",
    "# create labels\n",
    "k = np.arange(10)\n",
    "train_labels = np.repeat(k, 250).reshape(-1, 1)\n",
    "test_labels = train_labels.copy()\n",
    "\n",
    "knn = cv2.ml.SVM_create()\n",
    "knn.setKernel(cv2.ml.SVM_LINEAR)\n",
    "knn.setC(2.67)\n",
    "knn.setGamma(5.383)\n",
    "knn.setType(cv2.ml.SVM_C_SVC)\n",
    "\n",
    "knn.train(train_features, cv2.ml.ROW_SAMPLE, train_labels)\n",
    "\n",
    "result = knn.predict(test_features)\n",
    "\n",
    "matches = np.equal(result[1], test_labels)\n",
    "matches = matches.astype(np.int)\n",
    "\n",
    "correct = np.count_nonzero(matches)\n",
    "\n",
    "accuracy = correct * 100.0 / result[1].size\n",
    "\n",
    "print(accuracy)\n"
   ]
  },
  {
   "cell_type": "code",
   "execution_count": 11,
   "metadata": {},
   "outputs": [
    {
     "data": {
      "image/png": "[encoded data removed]",
      "text/plain": [
       "<Figure size 432x288 with 1 Axes>"
      ]
     },
     "metadata": {},
     "output_type": "display_data"
    },
    {
     "data": {
      "text/plain": [
       "<matplotlib.image.AxesImage at 0x19429c98940>"
      ]
     },
     "execution_count": 11,
     "metadata": {},
     "output_type": "execute_result"
    },
    {
     "data": {
      "image/png": "[encoded data removed]",
      "text/plain": [
       "<Figure size 432x288 with 1 Axes>"
      ]
     },
     "metadata": {},
     "output_type": "display_data"
    }
   ],
   "source": [
    "import cv2\n",
    "import numpy as np\n",
    "import matplotlib.pyplot as mpl\n",
    "\n",
    "from sklearn.decomposition import PCA\n",
    "\n",
    "digits = cv2.imread('../datasets/digits.png', 0)\n",
    "\n",
    "images = np.array(digits, dtype=np.float32)\n",
    "images = images.reshape(-1, (20 * 20))\n",
    "\n",
    "pca = PCA(n_components=images.shape[1])\n",
    "\n",
    "pca.fit(images)\n",
    "\n",
    "mpl.plot(np.cumsum(pca.explained_variance_ratio_))\n",
    "mpl.xlabel('Number of components')\n",
    "mpl.ylabel('Cumulative explained variance')\n",
    "mpl.show()\n",
    "\n",
    "train_features = pca.transform(train_features)\n",
    "test_features = pca.transform(test_features)\n",
    "\n",
    "train_features.shape, test_features.shape\n",
    "\n",
    "inverse_pca = pca.inverse_transform(train_features)\n",
    "inverse_pca.shape\n",
    "mpl.imshow(inverse_pca[0].reshape(20, 20), cmap='gray')\n"
   ]
  },
  {
   "cell_type": "code",
   "execution_count": 12,
   "metadata": {},
   "outputs": [
    {
     "name": "stderr",
     "output_type": "stream",
     "text": [
      "C:\\Users\\erwin.d.chavez\\AppData\\Local\\Continuum\\anaconda3\\lib\\site-packages\\h5py\\__init__.py:36: FutureWarning: Conversion of the second argument of issubdtype from `float` to `np.floating` is deprecated. In future, it will be treated as `np.float64 == np.dtype(float).type`.\n",
      "  from ._conv import register_converters as _register_converters\n"
     ]
    }
   ],
   "source": []
  },
  {
   "cell_type": "code",
   "execution_count": null,
   "metadata": {},
   "outputs": [],
   "source": []
  }
 ],
 "metadata": {
  "kernelspec": {
   "display_name": "Python 3",
   "language": "python",
   "name": "python3"
  },
  "language_info": {
   "codemirror_mode": {
    "name": "ipython",
    "version": 3
   },
   "file_extension": ".py",
   "mimetype": "text/x-python",
   "name": "python",
   "nbconvert_exporter": "python",
   "pygments_lexer": "ipython3",
   "version": "3.6.5"
  }
 },
 "nbformat": 4,
 "nbformat_minor": 2
}
